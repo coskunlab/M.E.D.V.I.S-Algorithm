{
 "cells": [
  {
   "cell_type": "markdown",
   "id": "4da73ea9-e3ae-494d-a0f8-a0b1871abb6d",
   "metadata": {},
   "source": [
    "# Creating Gauge Charts"
   ]
  },
  {
   "cell_type": "markdown",
   "id": "a7121c8e-3ef1-4ff5-978b-7ede6fa58b06",
   "metadata": {},
   "source": [
    "## Importing Necessary Libraries"
   ]
  },
  {
   "cell_type": "code",
   "execution_count": 1,
   "id": "3d4e6c41-0232-427f-a4db-6688a4ca0e08",
   "metadata": {},
   "outputs": [],
   "source": [
    "import plotly.graph_objects as go\n",
    "import os\n",
    "import numpy as np\n",
    "import pandas as pd\n",
    "import matplotlib.pyplot as plt\n",
    "from plotly.subplots import make_subplots\n",
    "\n",
    "# must install this: conda install -c conda-forge python-kaleido"
   ]
  },
  {
   "cell_type": "markdown",
   "id": "9f81a351-46f1-492c-84e4-21b4e16177f5",
   "metadata": {},
   "source": [
    "## Obtaining the Data"
   ]
  },
  {
   "cell_type": "code",
   "execution_count": 2,
   "id": "9a39b84c-5952-4bf6-bc75-1bd3d8c17241",
   "metadata": {},
   "outputs": [],
   "source": [
    "data = pd.read_excel(os.getcwd() + '\\\\output files\\\\CombinedData.xlsx')\n",
    "data = data.to_numpy()\n",
    "size = np.shape(data)\n",
    "names = data[:,1]\n",
    "vizCount = data[:,2]\n",
    "colorScore = data[:,3]\n",
    "Complexity = data[:,4]\n",
    "WhitePix = data[:,6]"
   ]
  },
  {
   "cell_type": "markdown",
   "id": "79512242-dd26-4c7d-88c4-7f74af61aafd",
   "metadata": {},
   "source": [
    "## If the Gauge Charts Folder Doesn't Exist, then make the Folder"
   ]
  },
  {
   "cell_type": "code",
   "execution_count": 3,
   "id": "ee05dcad-bc32-41b2-8437-569e0ec87a01",
   "metadata": {},
   "outputs": [],
   "source": [
    "current_directory = os.getcwd()\n",
    "\n",
    "# Combine current directory path with the desired directory name\n",
    "new_directory_path = current_directory + '\\\\Gauge Charts'\n",
    "\n",
    "# Check if the directory exists\n",
    "if not os.path.exists(new_directory_path):\n",
    "    # Create the directory if it doesn't exist\n",
    "    os.makedirs(new_directory_path)"
   ]
  },
  {
   "cell_type": "markdown",
   "id": "816ba6da-1901-4c43-9b51-5792b01de1f7",
   "metadata": {},
   "source": [
    "## Make Gauge Charts"
   ]
  },
  {
   "cell_type": "code",
   "execution_count": 5,
   "id": "b4289a54-d4ce-454f-9597-e6bf5eaf90d1",
   "metadata": {},
   "outputs": [],
   "source": [
    "i = 0\n",
    "while i < size[0]:\n",
    "    j = 2\n",
    "    fig = make_subplots(\n",
    "        rows=4, cols=1,\n",
    "        specs=[[{\"type\": \"indicator\"}], [{\"type\": \"indicator\"}],[{\"type\": \"indicator\"}], [{\"type\": \"indicator\"}]],\n",
    "        vertical_spacing = 0.15\n",
    "    )\n",
    "    while j < 7:\n",
    "        if j == 2:\n",
    "            fig.append_trace(go.Indicator(\n",
    "                mode = 'gauge+number',\n",
    "                value = vizCount[i],\n",
    "                title = {'text': 'Visual Count'},\n",
    "                gauge = {'axis': {'range': [None, max(vizCount)]},\n",
    "                         'bar': {'color': \"green\"},\n",
    "                         'threshold' : {'line': {'color': \"red\", 'width': 4}, 'thickness': 0.75, 'value': 3}}),row = 1, col = 1)\n",
    "            fig.update_layout(\n",
    "                autosize = False,\n",
    "                font=dict(size=10))  # Set the font size here\n",
    "        elif j == 3:\n",
    "            fig.append_trace(go.Indicator(\n",
    "                mode = 'gauge+number',\n",
    "                value = colorScore[i],\n",
    "                title = {'text': 'Color Score'},\n",
    "                gauge = {'axis': {'range': [None, max(colorScore)]},\n",
    "                         'bar': {'color': \"green\"},\n",
    "                         'threshold' : {'line': {'color': \"red\", 'width': 4}, 'thickness': 0.75, 'value': 26.70166703}}), row = 2, col = 1)\n",
    "            fig.update_layout(\n",
    "                autosize = False,\n",
    "                font=dict(size=10))\n",
    "        elif j ==4:\n",
    "            fig.append_trace(go.Indicator(\n",
    "                mode = 'gauge+number',\n",
    "                value = Complexity[i],\n",
    "                title = {'text': 'Complexity Score'},\n",
    "                gauge = {'axis': {'range': [None, max(Complexity)]},\n",
    "                         'bar': {'color': \"green\"},\n",
    "                         'threshold' : {'line': {'color': \"red\", 'width': 4}, 'thickness': 0.75, 'value': 41}}), row = 3, col = 1)\n",
    "            fig.update_layout(\n",
    "                autosize = False,\n",
    "                font=dict(size=10))\n",
    "        elif j == 6:\n",
    "            fig.append_trace(go.Indicator(\n",
    "                mode = 'gauge+number',\n",
    "                value = WhitePix[i],\n",
    "                title = {'text': 'White Pix Percentage'},\n",
    "                gauge = {'axis': {'range': [None, max(WhitePix)]},\n",
    "                         'bar': {'color': \"green\"},\n",
    "                         'threshold' : {'line': {'color': \"red\", 'width': 4}, 'thickness': 0.75, 'value': 0.546695711}}), row = 4, col = 1)\n",
    "            fig.update_layout(\n",
    "                autosize = False,\n",
    "                font=dict(size=10))\n",
    "        j = j + 1\n",
    "    fig.write_image(os.getcwd() + '\\\\Gauge Charts\\\\' + names[i] + '.jpeg')\n",
    "    i = i + 1"
   ]
  },
  {
   "cell_type": "code",
   "execution_count": null,
   "id": "969530b2-3dda-44c8-b7c7-ab6e12143b83",
   "metadata": {},
   "outputs": [],
   "source": []
  },
  {
   "cell_type": "code",
   "execution_count": null,
   "id": "16e1bb0d-6288-4745-a0db-ae44d310a885",
   "metadata": {},
   "outputs": [],
   "source": []
  }
 ],
 "metadata": {
  "kernelspec": {
   "display_name": "Python 3 (ipykernel)",
   "language": "python",
   "name": "python3"
  },
  "language_info": {
   "codemirror_mode": {
    "name": "ipython",
    "version": 3
   },
   "file_extension": ".py",
   "mimetype": "text/x-python",
   "name": "python",
   "nbconvert_exporter": "python",
   "pygments_lexer": "ipython3",
   "version": "3.10.9"
  }
 },
 "nbformat": 4,
 "nbformat_minor": 5
}
