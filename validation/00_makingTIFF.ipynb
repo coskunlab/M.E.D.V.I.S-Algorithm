{
 "cells": [
  {
   "cell_type": "markdown",
   "id": "9ff90d9c-cae5-4d74-8888-fed38e63f6ec",
   "metadata": {},
   "source": [
    "# Changing File Type"
   ]
  },
  {
   "cell_type": "markdown",
   "id": "d234c589-b292-430e-838f-8f9a4baa466f",
   "metadata": {},
   "source": [
    "## Importing necessary Libraries and Files"
   ]
  },
  {
   "cell_type": "code",
   "execution_count": 1,
   "id": "78b5c141-8079-45df-896e-342474d22f58",
   "metadata": {},
   "outputs": [],
   "source": [
    "import os\n",
    "from PIL import Image\n",
    "import pathlib\n",
    "import numpy as np\n",
    "import pandas as pd\n",
    "import matplotlib.pyplot as plt\n",
    "import cv2\n",
    "\n",
    "curPlace = os.getcwd()\n",
    "Place = curPlace + '\\\\raws'\n",
    "placePath = pathlib.Path(Place)\n",
    "allFiles = list(placePath.iterdir())"
   ]
  },
  {
   "cell_type": "markdown",
   "id": "d618bd14-143b-4a85-8b46-1367ded0dd3f",
   "metadata": {},
   "source": [
    "## Making data Directory If it Doesn't Exits"
   ]
  },
  {
   "cell_type": "code",
   "execution_count": 2,
   "id": "df18e443-5f2f-4341-82a4-1bac054b4edd",
   "metadata": {},
   "outputs": [],
   "source": [
    "current_directory = os.getcwd()\n",
    "\n",
    "# Combine current directory path with the desired directory name\n",
    "new_directory_path = current_directory + '\\\\data'\n",
    "\n",
    "# Check if the directory exists\n",
    "if not os.path.exists(new_directory_path):\n",
    "    # Create the directory if it doesn't exist\n",
    "    os.makedirs(new_directory_path)"
   ]
  },
  {
   "cell_type": "markdown",
   "id": "9e1c1c7d-dbe3-485e-ba2f-62a7625108ac",
   "metadata": {},
   "source": [
    "## Changing all Files to TIFF Format"
   ]
  },
  {
   "cell_type": "code",
   "execution_count": 3,
   "id": "87de91ca-0485-4fb8-880b-e4de2eb570e9",
   "metadata": {},
   "outputs": [],
   "source": [
    "\n",
    "for i in allFiles:\n",
    "    curImage = Image.open(i)\n",
    "    pathString = str(i)\n",
    "    ind = pathString.find('Figure')\n",
    "    length = len(pathString)\n",
    "    name = pathString[ind:length]\n",
    "    \n",
    "    ind = name.find('.')\n",
    "    name = name[0:ind] + '.tiff'\n",
    "    \n",
    "    curImage.save(os.getcwd() + '\\\\data\\\\' + name)\n",
    "\n",
    "    "
   ]
  },
  {
   "cell_type": "code",
   "execution_count": null,
   "id": "8797aa17-2893-403a-a216-6df33d80b94d",
   "metadata": {},
   "outputs": [],
   "source": []
  }
 ],
 "metadata": {
  "kernelspec": {
   "display_name": "Python 3 (ipykernel)",
   "language": "python",
   "name": "python3"
  },
  "language_info": {
   "codemirror_mode": {
    "name": "ipython",
    "version": 3
   },
   "file_extension": ".py",
   "mimetype": "text/x-python",
   "name": "python",
   "nbconvert_exporter": "python",
   "pygments_lexer": "ipython3",
   "version": "3.10.9"
  }
 },
 "nbformat": 4,
 "nbformat_minor": 5
}
