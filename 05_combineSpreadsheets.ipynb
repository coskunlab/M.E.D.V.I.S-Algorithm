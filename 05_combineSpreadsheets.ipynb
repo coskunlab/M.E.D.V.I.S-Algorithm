{
 "cells": [
  {
   "cell_type": "markdown",
   "id": "afbdb2a0-7e1e-47ad-8947-d661a50f0273",
   "metadata": {},
   "source": [
    "# Combining the Data into one Spreadsheet"
   ]
  },
  {
   "cell_type": "markdown",
   "id": "8c129c99-847e-4e26-85c2-2342ffa626a2",
   "metadata": {},
   "source": [
    "## Importing Necessary Libraries and Files"
   ]
  },
  {
   "cell_type": "code",
   "execution_count": 1,
   "id": "66c3168d-bbc8-4cb1-b323-6b75ff7e0b77",
   "metadata": {},
   "outputs": [],
   "source": [
    "import pathlib\n",
    "import os\n",
    "import pandas as pd\n",
    "\n",
    "curPlace = os.getcwd()\n",
    "Place = curPlace + '\\spreadsheets'\n",
    "placePath = pathlib.Path(Place)\n",
    "allFiles = list(placePath.iterdir())"
   ]
  },
  {
   "cell_type": "markdown",
   "id": "faf8abc1-cd95-4f35-9125-e29772026bdd",
   "metadata": {},
   "source": [
    "## Combining All Files"
   ]
  },
  {
   "cell_type": "code",
   "execution_count": 2,
   "id": "75a10d42-9f4e-4e99-b340-3b0ffa3539fa",
   "metadata": {},
   "outputs": [],
   "source": [
    "dataPrime = pd.read_excel(str(allFiles[0]))\n",
    "outData = dataPrime.iloc[:,1]\n",
    "\n",
    "for i in allFiles:\n",
    "    data = pd.read_excel(str(i))\n",
    "    size = data.shape\n",
    "    last = size[1]\n",
    "    col = data.iloc[:,last-1]\n",
    "    outData = pd.concat([outData,col], axis =1, join = \"inner\")\n"
   ]
  },
  {
   "cell_type": "markdown",
   "id": "43987fe6-b9a3-48d4-bf08-0b9fd17f1562",
   "metadata": {},
   "source": [
    "## Creating the Output Files Directory if it does not Exist"
   ]
  },
  {
   "cell_type": "code",
   "execution_count": 3,
   "id": "75ee299a-b6d8-4098-b9da-c525f6fdd05f",
   "metadata": {},
   "outputs": [],
   "source": [
    "current_directory = os.getcwd()\n",
    "\n",
    "# Combine current directory path with the desired directory name\n",
    "new_directory_path = current_directory + '\\\\output files'\n",
    "\n",
    "# Check if the directory exists\n",
    "if not os.path.exists(new_directory_path):\n",
    "    # Create the directory if it doesn't exist\n",
    "    os.makedirs(new_directory_path)"
   ]
  },
  {
   "cell_type": "markdown",
   "id": "0d9d848a-6a90-4610-a4ed-b7049f9f3750",
   "metadata": {},
   "source": [
    "## Exporting the Combined Data"
   ]
  },
  {
   "cell_type": "code",
   "execution_count": 4,
   "id": "bf7f0b96-ff1b-4176-9a3f-5c909d243a48",
   "metadata": {},
   "outputs": [],
   "source": [
    "outData.to_excel(curPlace + '\\\\output files\\\\CombinedData.xlsx')"
   ]
  },
  {
   "cell_type": "code",
   "execution_count": null,
   "id": "79b9c6ce-6d7e-402d-940b-7b565c888734",
   "metadata": {},
   "outputs": [],
   "source": []
  }
 ],
 "metadata": {
  "kernelspec": {
   "display_name": "Python 3 (ipykernel)",
   "language": "python",
   "name": "python3"
  },
  "language_info": {
   "codemirror_mode": {
    "name": "ipython",
    "version": 3
   },
   "file_extension": ".py",
   "mimetype": "text/x-python",
   "name": "python",
   "nbconvert_exporter": "python",
   "pygments_lexer": "ipython3",
   "version": "3.10.9"
  }
 },
 "nbformat": 4,
 "nbformat_minor": 5
}
